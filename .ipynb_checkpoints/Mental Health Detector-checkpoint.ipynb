{
 "cells": [
  {
   "cell_type": "markdown",
   "id": "f204a0aa",
   "metadata": {},
   "source": [
    "# Import Libraries"
   ]
  },
  {
   "cell_type": "code",
   "execution_count": 1,
   "id": "47f8b7f4",
   "metadata": {},
   "outputs": [],
   "source": [
    "import pandas as pd\n",
    "import numpy as np\n",
    "import seaborn as sns\n",
    "import matplotlib.pyplot as plt\n",
    "%matplotlib inline\n",
    "sns.set_style(\"whitegrid\")\n",
    "# plt.style.use(\"fivethirtyeight\")\n",
    "import warnings\n",
    "warnings.filterwarnings('ignore')"
   ]
  },
  {
   "cell_type": "code",
   "execution_count": 2,
   "id": "dee1329c",
   "metadata": {},
   "outputs": [],
   "source": [
    "#upload dataset\n",
    "zs=pd.read_excel('testdata.xlsx')"
   ]
  },
  {
   "cell_type": "code",
   "execution_count": 3,
   "id": "775658b8",
   "metadata": {
    "scrolled": true
   },
   "outputs": [
    {
     "data": {
      "text/plain": [
       "Index(['sleep', 'diet', 'care', 'freq', 'meds', 'coun', 'act', 'break',\n",
       "       'relax', 'journ', 'social', 'goals', 'self', 'symp', 'age', 'gender',\n",
       "       'dietrate', 'cry', 'profession', 'field', 'injury', 'negative',\n",
       "       'valid'],\n",
       "      dtype='object')"
      ]
     },
     "execution_count": 3,
     "metadata": {},
     "output_type": "execute_result"
    }
   ],
   "source": [
    "#displaying dataset\n",
    "zs.columns"
   ]
  },
  {
   "cell_type": "code",
   "execution_count": 4,
   "id": "ff1af22f",
   "metadata": {},
   "outputs": [],
   "source": [
    "# zs.drop('Timestamp',axis=1,inplace=True)"
   ]
  },
  {
   "cell_type": "code",
   "execution_count": 5,
   "id": "0879e84d",
   "metadata": {},
   "outputs": [
    {
     "data": {
      "text/plain": [
       "array(['Recommend self-help tasks', 'yes ', 'yes  ', 'no', 'yes',\n",
       "       'recommend self-help tasks'], dtype=object)"
      ]
     },
     "execution_count": 5,
     "metadata": {},
     "output_type": "execute_result"
    }
   ],
   "source": [
    "zs.valid.unique()"
   ]
  },
  {
   "cell_type": "markdown",
   "id": "aa3fea04",
   "metadata": {},
   "source": [
    "## UNDERSTANDING THE DATA"
   ]
  },
  {
   "cell_type": "markdown",
   "id": "7936d65e",
   "metadata": {},
   "source": [
    "Understanding each attribute \n",
    "\n",
    "1) How many hours of sleep did you get last night?                    - sleep<br>\n",
    "2) Have you been eating regularly and maintaining a healthy diet?     - diet<br>\n",
    "3) Have you been practicing self-care regularly?                      - care<br>\n",
    "4) If so how regularly?                                               - freq<br>\n",
    "5) Have you been taking any medication as prescribed?                 - meds<br>\n",
    "6) Have you been attending therapy or counseling sessions regularly?  - coun<br>\n",
    "7) Have you been engaging in physical activity or exercise regularly? - act<br>\n",
    "8) Have you been taking breaks and practicing relaxation techniques \n",
    "   throughout the day?                                                - break<br>\n",
    "9) If yes, what are some relaxation techniques you practice?          - relax<br>\n",
    "10)Have you been journaling or practicing mindfulness?                - journ<br>\n",
    "11)Have you been socializing and connecting with others \n",
    "   regularly?                                                         - social<br>\n",
    "12) Have you been setting and achieving personal goals?               - goals<br>\n",
    "13) Have you been practicing positive self-talk and challenging \n",
    "    negative thoughts?                                                - self<br>\n",
    "14) Have you been experiencing any physical symptoms related to your \n",
    "    mental health, such as headaches or stomach problems?             - symp<br>\n",
    "15) Do they need therapy?                                             - valid<br>\n",
    "16) How old are you?                                                  - age<br>\n",
    "17) What is your Gender ?                                             - gender<br>\n",
    "18) If yes, rate how healthy your diet is on a scale of 1-10          - dietrate<br>\n",
    "19) How many times did you cry this week?                             - cry<br>\n",
    "20) What is your profession?                                          - profession<br>\n",
    "21) Do you like the field your in?                                    - field<br>\n",
    "22) Have you ever been in any situation in which you were seriously\n",
    "injured or feared that you were seriously injured?                    - injury<br>\n",
    "23) In past week, have you had any negative thoughts or thoughts \n",
    "about self-harming?                                                   - negative<br>\n",
    "\n",
    "\n",
    "\n",
    "\n"
   ]
  },
  {
   "cell_type": "code",
   "execution_count": 6,
   "id": "d8788f03",
   "metadata": {},
   "outputs": [
    {
     "data": {
      "text/html": [
       "<div>\n",
       "<style scoped>\n",
       "    .dataframe tbody tr th:only-of-type {\n",
       "        vertical-align: middle;\n",
       "    }\n",
       "\n",
       "    .dataframe tbody tr th {\n",
       "        vertical-align: top;\n",
       "    }\n",
       "\n",
       "    .dataframe thead th {\n",
       "        text-align: right;\n",
       "    }\n",
       "</style>\n",
       "<table border=\"1\" class=\"dataframe\">\n",
       "  <thead>\n",
       "    <tr style=\"text-align: right;\">\n",
       "      <th></th>\n",
       "      <th>sleep</th>\n",
       "      <th>diet</th>\n",
       "      <th>care</th>\n",
       "      <th>freq</th>\n",
       "      <th>meds</th>\n",
       "      <th>coun</th>\n",
       "      <th>act</th>\n",
       "      <th>break</th>\n",
       "      <th>relax</th>\n",
       "      <th>journ</th>\n",
       "      <th>...</th>\n",
       "      <th>symp</th>\n",
       "      <th>age</th>\n",
       "      <th>gender</th>\n",
       "      <th>dietrate</th>\n",
       "      <th>cry</th>\n",
       "      <th>profession</th>\n",
       "      <th>field</th>\n",
       "      <th>injury</th>\n",
       "      <th>negative</th>\n",
       "      <th>valid</th>\n",
       "    </tr>\n",
       "  </thead>\n",
       "  <tbody>\n",
       "    <tr>\n",
       "      <th>0</th>\n",
       "      <td>6-8</td>\n",
       "      <td>Yes</td>\n",
       "      <td>No</td>\n",
       "      <td>NaN</td>\n",
       "      <td>No</td>\n",
       "      <td>No</td>\n",
       "      <td>Yes</td>\n",
       "      <td>No</td>\n",
       "      <td>NaN</td>\n",
       "      <td>No</td>\n",
       "      <td>...</td>\n",
       "      <td>No</td>\n",
       "      <td>20</td>\n",
       "      <td>Female</td>\n",
       "      <td>7.0</td>\n",
       "      <td>Not at all</td>\n",
       "      <td>College Student</td>\n",
       "      <td>Yes</td>\n",
       "      <td>No</td>\n",
       "      <td>1-3</td>\n",
       "      <td>Recommend self-help tasks</td>\n",
       "    </tr>\n",
       "    <tr>\n",
       "      <th>1</th>\n",
       "      <td>6-8</td>\n",
       "      <td>No</td>\n",
       "      <td>No</td>\n",
       "      <td>NaN</td>\n",
       "      <td>No</td>\n",
       "      <td>No</td>\n",
       "      <td>No</td>\n",
       "      <td>Yes</td>\n",
       "      <td>Deep breathing, Going outdoors, Watching shows...</td>\n",
       "      <td>No</td>\n",
       "      <td>...</td>\n",
       "      <td>Yes</td>\n",
       "      <td>38</td>\n",
       "      <td>Female</td>\n",
       "      <td>6.0</td>\n",
       "      <td>Not at all</td>\n",
       "      <td>Working professional</td>\n",
       "      <td>Yes</td>\n",
       "      <td>Yes</td>\n",
       "      <td>Not at all</td>\n",
       "      <td>yes</td>\n",
       "    </tr>\n",
       "    <tr>\n",
       "      <th>2</th>\n",
       "      <td>6-8</td>\n",
       "      <td>Yes</td>\n",
       "      <td>No</td>\n",
       "      <td>NaN</td>\n",
       "      <td>No</td>\n",
       "      <td>Yes</td>\n",
       "      <td>Yes</td>\n",
       "      <td>No</td>\n",
       "      <td>NaN</td>\n",
       "      <td>No</td>\n",
       "      <td>...</td>\n",
       "      <td>Yes</td>\n",
       "      <td>19</td>\n",
       "      <td>Male</td>\n",
       "      <td>4.0</td>\n",
       "      <td>Not at all</td>\n",
       "      <td>College Student</td>\n",
       "      <td>NaN</td>\n",
       "      <td>Yes</td>\n",
       "      <td>Not at all</td>\n",
       "      <td>yes</td>\n",
       "    </tr>\n",
       "    <tr>\n",
       "      <th>3</th>\n",
       "      <td>6-8</td>\n",
       "      <td>Yes</td>\n",
       "      <td>Yes</td>\n",
       "      <td>Everyday</td>\n",
       "      <td>No</td>\n",
       "      <td>No</td>\n",
       "      <td>Yes</td>\n",
       "      <td>Yes</td>\n",
       "      <td>Breathing exercises</td>\n",
       "      <td>No</td>\n",
       "      <td>...</td>\n",
       "      <td>No</td>\n",
       "      <td>20</td>\n",
       "      <td>Male</td>\n",
       "      <td>9.0</td>\n",
       "      <td>Not at all</td>\n",
       "      <td>School Student</td>\n",
       "      <td>No</td>\n",
       "      <td>Yes</td>\n",
       "      <td>Not at all</td>\n",
       "      <td>no</td>\n",
       "    </tr>\n",
       "    <tr>\n",
       "      <th>4</th>\n",
       "      <td>6-8</td>\n",
       "      <td>No</td>\n",
       "      <td>Yes</td>\n",
       "      <td>Everyday</td>\n",
       "      <td>No</td>\n",
       "      <td>No</td>\n",
       "      <td>No</td>\n",
       "      <td>No</td>\n",
       "      <td>NaN</td>\n",
       "      <td>No</td>\n",
       "      <td>...</td>\n",
       "      <td>No</td>\n",
       "      <td>21</td>\n",
       "      <td>Male</td>\n",
       "      <td>7.0</td>\n",
       "      <td>1-2 times</td>\n",
       "      <td>School Student</td>\n",
       "      <td>Yes</td>\n",
       "      <td>Maybe</td>\n",
       "      <td>1-3</td>\n",
       "      <td>Recommend self-help tasks</td>\n",
       "    </tr>\n",
       "  </tbody>\n",
       "</table>\n",
       "<p>5 rows × 23 columns</p>\n",
       "</div>"
      ],
      "text/plain": [
       "  sleep diet care      freq meds coun  act break  \\\n",
       "0   6-8  Yes   No       NaN   No   No  Yes    No   \n",
       "1   6-8   No   No       NaN   No   No   No   Yes   \n",
       "2   6-8  Yes   No       NaN   No  Yes  Yes    No   \n",
       "3   6-8  Yes  Yes  Everyday   No   No  Yes   Yes   \n",
       "4   6-8   No  Yes  Everyday   No   No   No    No   \n",
       "\n",
       "                                               relax journ  ... symp age  \\\n",
       "0                                                NaN    No  ...   No  20   \n",
       "1  Deep breathing, Going outdoors, Watching shows...    No  ...  Yes  38   \n",
       "2                                                NaN    No  ...  Yes  19   \n",
       "3                               Breathing exercises     No  ...   No  20   \n",
       "4                                                NaN    No  ...   No  21   \n",
       "\n",
       "   gender dietrate         cry            profession  field injury  \\\n",
       "0  Female      7.0  Not at all       College Student    Yes     No   \n",
       "1  Female      6.0  Not at all  Working professional    Yes    Yes   \n",
       "2    Male      4.0  Not at all       College Student    NaN    Yes   \n",
       "3    Male      9.0  Not at all        School Student     No    Yes   \n",
       "4    Male      7.0   1-2 times        School Student    Yes  Maybe   \n",
       "\n",
       "     negative                      valid  \n",
       "0         1-3  Recommend self-help tasks  \n",
       "1  Not at all                       yes   \n",
       "2  Not at all                      yes    \n",
       "3  Not at all                         no  \n",
       "4         1-3  Recommend self-help tasks  \n",
       "\n",
       "[5 rows x 23 columns]"
      ]
     },
     "execution_count": 6,
     "metadata": {},
     "output_type": "execute_result"
    }
   ],
   "source": [
    "zs.head()"
   ]
  },
  {
   "cell_type": "code",
   "execution_count": 7,
   "id": "e2f177e7",
   "metadata": {},
   "outputs": [
    {
     "name": "stdout",
     "output_type": "stream",
     "text": [
      "<class 'pandas.core.frame.DataFrame'>\n",
      "RangeIndex: 251 entries, 0 to 250\n",
      "Data columns (total 23 columns):\n",
      " #   Column      Non-Null Count  Dtype  \n",
      "---  ------      --------------  -----  \n",
      " 0   sleep       251 non-null    object \n",
      " 1   diet        251 non-null    object \n",
      " 2   care        251 non-null    object \n",
      " 3   freq        148 non-null    object \n",
      " 4   meds        251 non-null    object \n",
      " 5   coun        251 non-null    object \n",
      " 6   act         251 non-null    object \n",
      " 7   break       251 non-null    object \n",
      " 8   relax       72 non-null     object \n",
      " 9   journ       251 non-null    object \n",
      " 10  social      251 non-null    object \n",
      " 11  goals       251 non-null    object \n",
      " 12  self        251 non-null    object \n",
      " 13  symp        251 non-null    object \n",
      " 14  age         251 non-null    int64  \n",
      " 15  gender      251 non-null    object \n",
      " 16  dietrate    233 non-null    float64\n",
      " 17  cry         251 non-null    object \n",
      " 18  profession  251 non-null    object \n",
      " 19  field       242 non-null    object \n",
      " 20  injury      251 non-null    object \n",
      " 21  negative    250 non-null    object \n",
      " 22  valid       251 non-null    object \n",
      "dtypes: float64(1), int64(1), object(21)\n",
      "memory usage: 45.2+ KB\n"
     ]
    }
   ],
   "source": [
    "zs.info()"
   ]
  },
  {
   "cell_type": "code",
   "execution_count": null,
   "id": "ed1bf232",
   "metadata": {},
   "outputs": [],
   "source": []
  },
  {
   "cell_type": "code",
   "execution_count": 8,
   "id": "cf149cd6",
   "metadata": {},
   "outputs": [],
   "source": [
    "zs.drop('relax',axis=1,inplace=True)"
   ]
  },
  {
   "cell_type": "code",
   "execution_count": 9,
   "id": "e289feb3",
   "metadata": {},
   "outputs": [
    {
     "data": {
      "text/plain": [
       "(251, 22)"
      ]
     },
     "execution_count": 9,
     "metadata": {},
     "output_type": "execute_result"
    }
   ],
   "source": [
    "zs.shape"
   ]
  },
  {
   "cell_type": "code",
   "execution_count": 10,
   "id": "01912a90",
   "metadata": {},
   "outputs": [
    {
     "data": {
      "text/html": [
       "<div>\n",
       "<style scoped>\n",
       "    .dataframe tbody tr th:only-of-type {\n",
       "        vertical-align: middle;\n",
       "    }\n",
       "\n",
       "    .dataframe tbody tr th {\n",
       "        vertical-align: top;\n",
       "    }\n",
       "\n",
       "    .dataframe thead th {\n",
       "        text-align: right;\n",
       "    }\n",
       "</style>\n",
       "<table border=\"1\" class=\"dataframe\">\n",
       "  <thead>\n",
       "    <tr style=\"text-align: right;\">\n",
       "      <th></th>\n",
       "      <th>age</th>\n",
       "      <th>dietrate</th>\n",
       "    </tr>\n",
       "  </thead>\n",
       "  <tbody>\n",
       "    <tr>\n",
       "      <th>count</th>\n",
       "      <td>251.000000</td>\n",
       "      <td>233.000000</td>\n",
       "    </tr>\n",
       "    <tr>\n",
       "      <th>mean</th>\n",
       "      <td>23.107570</td>\n",
       "      <td>6.004292</td>\n",
       "    </tr>\n",
       "    <tr>\n",
       "      <th>std</th>\n",
       "      <td>8.030964</td>\n",
       "      <td>1.806353</td>\n",
       "    </tr>\n",
       "    <tr>\n",
       "      <th>min</th>\n",
       "      <td>15.000000</td>\n",
       "      <td>1.000000</td>\n",
       "    </tr>\n",
       "    <tr>\n",
       "      <th>25%</th>\n",
       "      <td>20.000000</td>\n",
       "      <td>4.000000</td>\n",
       "    </tr>\n",
       "    <tr>\n",
       "      <th>50%</th>\n",
       "      <td>21.000000</td>\n",
       "      <td>6.000000</td>\n",
       "    </tr>\n",
       "    <tr>\n",
       "      <th>75%</th>\n",
       "      <td>22.000000</td>\n",
       "      <td>7.000000</td>\n",
       "    </tr>\n",
       "    <tr>\n",
       "      <th>max</th>\n",
       "      <td>77.000000</td>\n",
       "      <td>10.000000</td>\n",
       "    </tr>\n",
       "  </tbody>\n",
       "</table>\n",
       "</div>"
      ],
      "text/plain": [
       "              age    dietrate\n",
       "count  251.000000  233.000000\n",
       "mean    23.107570    6.004292\n",
       "std      8.030964    1.806353\n",
       "min     15.000000    1.000000\n",
       "25%     20.000000    4.000000\n",
       "50%     21.000000    6.000000\n",
       "75%     22.000000    7.000000\n",
       "max     77.000000   10.000000"
      ]
     },
     "execution_count": 10,
     "metadata": {},
     "output_type": "execute_result"
    }
   ],
   "source": [
    "zs.describe()"
   ]
  },
  {
   "cell_type": "code",
   "execution_count": 11,
   "id": "f26c22ca",
   "metadata": {},
   "outputs": [
    {
     "data": {
      "text/plain": [
       "array(['Recommend self-help tasks', 'yes ', 'yes  ', 'no', 'yes',\n",
       "       'recommend self-help tasks'], dtype=object)"
      ]
     },
     "execution_count": 11,
     "metadata": {},
     "output_type": "execute_result"
    }
   ],
   "source": [
    "zs.valid.unique()"
   ]
  },
  {
   "cell_type": "code",
   "execution_count": 12,
   "id": "3252d558",
   "metadata": {},
   "outputs": [],
   "source": [
    "zs.loc[zs.valid=='yes ','valid']='yes'\n",
    "zs.loc[zs.valid=='yes  ','valid']='yes'\n",
    "zs.loc[zs.valid=='Recommend self-help tasks','valid']='recommend self-help tasks'\n"
   ]
  },
  {
   "cell_type": "code",
   "execution_count": 13,
   "id": "c9a5667b",
   "metadata": {},
   "outputs": [
    {
     "data": {
      "text/plain": [
       "array(['recommend self-help tasks', 'yes', 'no'], dtype=object)"
      ]
     },
     "execution_count": 13,
     "metadata": {},
     "output_type": "execute_result"
    }
   ],
   "source": [
    "zs.valid.unique()"
   ]
  },
  {
   "cell_type": "markdown",
   "id": "46583f39",
   "metadata": {},
   "source": [
    "# Exploratory Data Analysis"
   ]
  },
  {
   "cell_type": "markdown",
   "id": "f676b9db",
   "metadata": {},
   "source": [
    "## Analysis 1 - Affect of Diet on Mental Health"
   ]
  },
  {
   "cell_type": "code",
   "execution_count": 14,
   "id": "52f4acae",
   "metadata": {},
   "outputs": [
    {
     "data": {
      "text/plain": [
       "recommend self-help tasks    94\n",
       "no                           87\n",
       "yes                          70\n",
       "Name: valid, dtype: int64"
      ]
     },
     "execution_count": 14,
     "metadata": {},
     "output_type": "execute_result"
    }
   ],
   "source": [
    "#Count of people who have a healthy diet or not\n",
    "zs.valid.value_counts()"
   ]
  },
  {
   "cell_type": "code",
   "execution_count": 15,
   "id": "a0116da1",
   "metadata": {},
   "outputs": [
    {
     "data": {
      "image/png": "[encoded data removed]",
      "text/plain": [
       "<Figure size 640x480 with 1 Axes>"
      ]
     },
     "metadata": {},
     "output_type": "display_data"
    }
   ],
   "source": [
    "data = [40,34,17]\n",
    "keys = ['Reccomend self-help tasks','Yes','No']\n",
    "  \n",
    "# declaring exploding pie\n",
    "explode = [0, 0.01,0.01]\n",
    "# define Seaborn color palette to use\n",
    "palette_color = sns.color_palette('Set2')\n",
    "  \n",
    "# plotting data on chart\n",
    "plt.pie(data, labels=keys, colors=palette_color,\n",
    "        explode=explode, autopct='%.0f%%')\n",
    "  \n",
    "# displaying chart\n",
    "plt.title(\"Therapy or not\")\n",
    "plt.show()"
   ]
  },
  {
   "cell_type": "code",
   "execution_count": 16,
   "id": "83f14466",
   "metadata": {},
   "outputs": [
    {
     "data": {
      "text/plain": [
       "<seaborn.axisgrid.FacetGrid at 0x248d60d4ee0>"
      ]
     },
     "execution_count": 16,
     "metadata": {},
     "output_type": "execute_result"
    },
    {
     "data": {
      "image/png": "[encoded data removed]",
      "text/plain": [
       "<Figure size 715.875x500 with 1 Axes>"
      ]
     },
     "metadata": {},
     "output_type": "display_data"
    }
   ],
   "source": [
    "sns.catplot(x=\"diet\", hue=\"valid\", kind=\"count\",palette='ch:.20', data=zs)\n"
   ]
  },
  {
   "cell_type": "markdown",
   "id": "a9b410b7",
   "metadata": {},
   "source": [
    "As we can see from the above graph, people who have a healthy diet are mentally seen to be healthier. Of all the people reccomended therapy, 32 do not have a healthy diet in contrast to the 7 who do."
   ]
  },
  {
   "cell_type": "code",
   "execution_count": 17,
   "id": "69e81e33",
   "metadata": {},
   "outputs": [
    {
     "data": {
      "text/plain": [
       "<seaborn.axisgrid.FacetGrid at 0x248d5b35810>"
      ]
     },
     "execution_count": 17,
     "metadata": {},
     "output_type": "execute_result"
    },
    {
     "data": {
      "image/png": "[encoded data removed]",
      "text/plain": [
       "<Figure size 572.625x500 with 1 Axes>"
      ]
     },
     "metadata": {},
     "output_type": "display_data"
    }
   ],
   "source": [
    "palette=sns.color_palette(\"ch:11\")\n",
    "sns.catplot(\n",
    "    data=zs, x=\"diet\", hue=\"meds\", kind=\"count\",\n",
    "    palette=palette, edgecolor=\".6\",\n",
    ")"
   ]
  },
  {
   "cell_type": "code",
   "execution_count": null,
   "id": "f0c469c6",
   "metadata": {},
   "outputs": [],
   "source": []
  },
  {
   "cell_type": "markdown",
   "id": "83f5eb96",
   "metadata": {},
   "source": [
    "The graph above indicates people who aren't on medication tend to have a healthy diet."
   ]
  },
  {
   "cell_type": "markdown",
   "id": "0edc2917",
   "metadata": {},
   "source": [
    "## Analysis 2 - Physical Exercise and Sleep"
   ]
  },
  {
   "cell_type": "code",
   "execution_count": 18,
   "id": "9ac81919",
   "metadata": {},
   "outputs": [
    {
     "data": {
      "text/plain": [
       "<seaborn.axisgrid.FacetGrid at 0x248d617d390>"
      ]
     },
     "execution_count": 18,
     "metadata": {},
     "output_type": "execute_result"
    },
    {
     "data": {
      "image/png": "[encoded data removed]",
      "text/plain": [
       "<Figure size 715.875x500 with 1 Axes>"
      ]
     },
     "metadata": {},
     "output_type": "display_data"
    }
   ],
   "source": [
    "palette=sns.color_palette(\"pastel\")\n",
    "sns.catplot(\n",
    "    data=zs, x=\"sleep\", hue=\"valid\", kind=\"count\",\n",
    "    palette=palette)"
   ]
  },
  {
   "cell_type": "markdown",
   "id": "89b71d69",
   "metadata": {},
   "source": [
    "The graph above indicates that people who take less than 8 hours of sleep have been recommended therapy the most. So, to have a healthy mental state, subject should take sufficient sleep, ie, more than 8 hours."
   ]
  },
  {
   "cell_type": "code",
   "execution_count": 19,
   "id": "f24fac1f",
   "metadata": {},
   "outputs": [
    {
     "data": {
      "text/plain": [
       "<seaborn.axisgrid.FacetGrid at 0x248d69e0490>"
      ]
     },
     "execution_count": 19,
     "metadata": {},
     "output_type": "execute_result"
    },
    {
     "data": {
      "image/png": "[encoded data removed]",
      "text/plain": [
       "<Figure size 715.875x500 with 1 Axes>"
      ]
     },
     "metadata": {},
     "output_type": "display_data"
    }
   ],
   "source": [
    "palette=sns.color_palette(\"pastel\")\n",
    "sns.catplot(\n",
    "    data=zs, x=\"sleep\", hue=\"valid\", kind=\"count\",\n",
    "    palette=palette)"
   ]
  },
  {
   "cell_type": "code",
   "execution_count": 20,
   "id": "8f6782df",
   "metadata": {},
   "outputs": [
    {
     "data": {
      "text/plain": [
       "<seaborn.axisgrid.FacetGrid at 0x248d69e0af0>"
      ]
     },
     "execution_count": 20,
     "metadata": {},
     "output_type": "execute_result"
    },
    {
     "data": {
      "image/png": "[encoded data removed]",
      "text/plain": [
       "<Figure size 715.875x500 with 1 Axes>"
      ]
     },
     "metadata": {},
     "output_type": "display_data"
    }
   ],
   "source": [
    "palette=sns.color_palette(\"ch:10\")\n",
    "sns.catplot(\n",
    "    data=zs, x=\"act\", hue=\"valid\", kind=\"count\",\n",
    "    palette=palette)"
   ]
  },
  {
   "cell_type": "markdown",
   "id": "b7dc3e98",
   "metadata": {},
   "source": [
    "This graph indicates that people who are not regularly engaging in physical activites and exercising enough, have been recommended self help tasks and therapy, in comparison to people who are. Regularly exercising will not only promote good physical health but good mental health as well."
   ]
  },
  {
   "cell_type": "code",
   "execution_count": 21,
   "id": "6f40a101",
   "metadata": {},
   "outputs": [
    {
     "data": {
      "text/plain": [
       "<seaborn.axisgrid.FacetGrid at 0x248d6c6b250>"
      ]
     },
     "execution_count": 21,
     "metadata": {},
     "output_type": "execute_result"
    },
    {
     "data": {
      "image/png": "[encoded data removed]",
      "text/plain": [
       "<Figure size 572.625x500 with 1 Axes>"
      ]
     },
     "metadata": {},
     "output_type": "display_data"
    }
   ],
   "source": [
    "palette=sns.color_palette(\"Set2\")\n",
    "sns.catplot(\n",
    "    data=zs, x=\"sleep\", hue=\"act\", kind=\"count\",\n",
    "    palette=palette)"
   ]
  },
  {
   "cell_type": "markdown",
   "id": "b419dff6",
   "metadata": {},
   "source": [
    "By the graph, we can study the 4-6 hour range a little more as it seems to be the optimal sleeping hours range allowing the individual to not be tired and be active as well."
   ]
  },
  {
   "cell_type": "markdown",
   "id": "2f6c0d16",
   "metadata": {},
   "source": [
    "## Analysis 3 - Social and Goals"
   ]
  },
  {
   "cell_type": "code",
   "execution_count": 22,
   "id": "fc30848e",
   "metadata": {},
   "outputs": [
    {
     "data": {
      "image/png": "[encoded data removed]",
      "text/plain": [
       "<Figure size 715.875x500 with 1 Axes>"
      ]
     },
     "metadata": {},
     "output_type": "display_data"
    }
   ],
   "source": [
    "palette=sns.color_palette(\"pastel\")\n",
    "\n",
    "ax=sns.catplot(\n",
    "    data=zs, x=\"social\", hue=\"valid\", kind=\"count\", margin_titles=True,\n",
    "    palette=palette)\n"
   ]
  },
  {
   "cell_type": "markdown",
   "id": "763201ba",
   "metadata": {},
   "source": [
    "According to the graph shown above, people who are frequently socializing are facing negative effects on their mental health and are being recommended therapy and self help tasks. People can sometimes influence a person negatively and bring out your insecurities and worries, which affect the person's mental health."
   ]
  },
  {
   "cell_type": "code",
   "execution_count": 23,
   "id": "c7a1cf08",
   "metadata": {},
   "outputs": [
    {
     "data": {
      "text/plain": [
       "<seaborn.axisgrid.FacetGrid at 0x248d804be80>"
      ]
     },
     "execution_count": 23,
     "metadata": {},
     "output_type": "execute_result"
    },
    {
     "data": {
      "image/png": "[encoded data removed]",
      "text/plain": [
       "<Figure size 715.875x500 with 1 Axes>"
      ]
     },
     "metadata": {},
     "output_type": "display_data"
    }
   ],
   "source": [
    "palette=sns.color_palette(\"Blues_r\")\n",
    "sns.catplot(\n",
    "    data=zs, x=\"goals\", hue=\"valid\", kind=\"count\",\n",
    "    palette=palette)"
   ]
  },
  {
   "cell_type": "markdown",
   "id": "2b6dfd7c",
   "metadata": {},
   "source": [
    "This graph shows that people who have been setting goals for themselves have been facing troubles with their mental health and are recommended self help tasks. This could be because they feel that are putting to much pressure on themselves to achieve those goals. Peolple should set goals but not pressure themselves to achieve it."
   ]
  },
  {
   "cell_type": "code",
   "execution_count": 24,
   "id": "fc8c2f07",
   "metadata": {},
   "outputs": [
    {
     "data": {
      "text/plain": [
       "<seaborn.axisgrid.FacetGrid at 0x248d6a4cf70>"
      ]
     },
     "execution_count": 24,
     "metadata": {},
     "output_type": "execute_result"
    },
    {
     "data": {
      "image/png": "[encoded data removed]",
      "text/plain": [
       "<Figure size 655x500 with 1 Axes>"
      ]
     },
     "metadata": {},
     "output_type": "display_data"
    }
   ],
   "source": [
    "palette=sns.color_palette(\"Accent\")\n",
    "sns.catplot(\n",
    "    data=zs, x=\"goals\", hue=\"social\", kind=\"count\",\n",
    "    palette=palette)"
   ]
  },
  {
   "cell_type": "markdown",
   "id": "4285f80f",
   "metadata": {},
   "source": [
    "The graph indicates that people who are socializing and connecting with others regularly are also setting personal goals and achieving them. Interacting with like-minded people motivate you to achieve more in life and learn from them as well."
   ]
  },
  {
   "cell_type": "markdown",
   "id": "f766ad9f",
   "metadata": {},
   "source": [
    "# Analysis 4 - Self Care and Mental Health"
   ]
  },
  {
   "cell_type": "code",
   "execution_count": 25,
   "id": "c2c0139a",
   "metadata": {},
   "outputs": [
    {
     "data": {
      "text/plain": [
       "<seaborn.axisgrid.FacetGrid at 0x248d69e1db0>"
      ]
     },
     "execution_count": 25,
     "metadata": {},
     "output_type": "execute_result"
    },
    {
     "data": {
      "image/png": "[encoded data removed]",
      "text/plain": [
       "<Figure size 715.875x500 with 1 Axes>"
      ]
     },
     "metadata": {},
     "output_type": "display_data"
    }
   ],
   "source": [
    "palette=sns.color_palette(\"rainbow\")\n",
    "sns.catplot(\n",
    "    data=zs, x=\"self\", hue=\"valid\", kind=\"count\",\n",
    "    palette=palette)"
   ]
  },
  {
   "cell_type": "markdown",
   "id": "c8adc630",
   "metadata": {},
   "source": [
    "This graph shows that people who are not practising postive self talk are being recommended to go for therapy and people who are channeling their negative thoughts are in a better place mentally than the others. Focusing on one's negative thoughts can negatively impact your mental health, so we should all continously practise postive self talk."
   ]
  },
  {
   "cell_type": "code",
   "execution_count": 26,
   "id": "dcd72801",
   "metadata": {},
   "outputs": [
    {
     "data": {
      "text/plain": [
       "<seaborn.axisgrid.FacetGrid at 0x248d6155b70>"
      ]
     },
     "execution_count": 26,
     "metadata": {},
     "output_type": "execute_result"
    },
    {
     "data": {
      "image/png": "[encoded data removed]",
      "text/plain": [
       "<Figure size 715.875x500 with 1 Axes>"
      ]
     },
     "metadata": {},
     "output_type": "display_data"
    }
   ],
   "source": [
    "palette=sns.color_palette(\"bone_r\")\n",
    "sns.catplot(\n",
    "    data=zs, x=\"goals\", hue=\"valid\", kind=\"count\",\n",
    "    palette=palette)"
   ]
  },
  {
   "cell_type": "markdown",
   "id": "938677f1",
   "metadata": {},
   "source": [
    "The graph shows that people are achieving their personal goals tend to need therapy less. We can also see that they are recommended self help tasks more as they are more open to them. Thus helping people change their mentality to a positive path pushing them to achieve small personal goals will allow them to be more confident and in turn affect their mental health positively"
   ]
  },
  {
   "cell_type": "code",
   "execution_count": 27,
   "id": "c8b7a88d",
   "metadata": {},
   "outputs": [
    {
     "data": {
      "text/plain": [
       "<seaborn.axisgrid.FacetGrid at 0x248d8465810>"
      ]
     },
     "execution_count": 27,
     "metadata": {},
     "output_type": "execute_result"
    },
    {
     "data": {
      "image/png": "[encoded data removed]",
      "text/plain": [
       "<Figure size 572.625x500 with 1 Axes>"
      ]
     },
     "metadata": {},
     "output_type": "display_data"
    }
   ],
   "source": [
    "palette=sns.color_palette(\"spring_r\")\n",
    "sns.catplot(\n",
    "    data=zs, x=\"self\", hue=\"goals\", kind=\"count\",\n",
    "    palette=palette)"
   ]
  },
  {
   "cell_type": "markdown",
   "id": "f148fbba",
   "metadata": {},
   "source": [
    "The graph shows that people who are indeed practising positive self talk have also paid attention to setting goals for themselves as well. It is important to chanel your negative thoughts into positive actions by getting goals."
   ]
  },
  {
   "cell_type": "code",
   "execution_count": 28,
   "id": "0504b5a2",
   "metadata": {},
   "outputs": [
    {
     "name": "stdout",
     "output_type": "stream",
     "text": [
      "<class 'pandas.core.frame.DataFrame'>\n",
      "RangeIndex: 251 entries, 0 to 250\n",
      "Data columns (total 22 columns):\n",
      " #   Column      Non-Null Count  Dtype  \n",
      "---  ------      --------------  -----  \n",
      " 0   sleep       251 non-null    object \n",
      " 1   diet        251 non-null    object \n",
      " 2   care        251 non-null    object \n",
      " 3   freq        148 non-null    object \n",
      " 4   meds        251 non-null    object \n",
      " 5   coun        251 non-null    object \n",
      " 6   act         251 non-null    object \n",
      " 7   break       251 non-null    object \n",
      " 8   journ       251 non-null    object \n",
      " 9   social      251 non-null    object \n",
      " 10  goals       251 non-null    object \n",
      " 11  self        251 non-null    object \n",
      " 12  symp        251 non-null    object \n",
      " 13  age         251 non-null    int64  \n",
      " 14  gender      251 non-null    object \n",
      " 15  dietrate    233 non-null    float64\n",
      " 16  cry         251 non-null    object \n",
      " 17  profession  251 non-null    object \n",
      " 18  field       242 non-null    object \n",
      " 19  injury      251 non-null    object \n",
      " 20  negative    250 non-null    object \n",
      " 21  valid       251 non-null    object \n",
      "dtypes: float64(1), int64(1), object(20)\n",
      "memory usage: 43.3+ KB\n"
     ]
    }
   ],
   "source": [
    "zs.info()"
   ]
  },
  {
   "cell_type": "code",
   "execution_count": 29,
   "id": "8f6dd9ca",
   "metadata": {},
   "outputs": [
    {
     "data": {
      "text/plain": [
       "Index(['sleep', 'diet', 'care', 'freq', 'meds', 'coun', 'act', 'break',\n",
       "       'journ', 'social', 'goals', 'self', 'symp', 'age', 'gender', 'dietrate',\n",
       "       'cry', 'profession', 'field', 'injury', 'negative', 'valid'],\n",
       "      dtype='object')"
      ]
     },
     "execution_count": 29,
     "metadata": {},
     "output_type": "execute_result"
    }
   ],
   "source": [
    "zs.columns"
   ]
  },
  {
   "cell_type": "code",
   "execution_count": 30,
   "id": "a3a7ad5d",
   "metadata": {},
   "outputs": [
    {
     "data": {
      "text/html": [
       "<div>\n",
       "<style scoped>\n",
       "    .dataframe tbody tr th:only-of-type {\n",
       "        vertical-align: middle;\n",
       "    }\n",
       "\n",
       "    .dataframe tbody tr th {\n",
       "        vertical-align: top;\n",
       "    }\n",
       "\n",
       "    .dataframe thead th {\n",
       "        text-align: right;\n",
       "    }\n",
       "</style>\n",
       "<table border=\"1\" class=\"dataframe\">\n",
       "  <thead>\n",
       "    <tr style=\"text-align: right;\">\n",
       "      <th></th>\n",
       "      <th>sleep</th>\n",
       "      <th>diet</th>\n",
       "      <th>care</th>\n",
       "      <th>freq</th>\n",
       "      <th>meds</th>\n",
       "      <th>coun</th>\n",
       "      <th>act</th>\n",
       "      <th>break</th>\n",
       "      <th>journ</th>\n",
       "      <th>social</th>\n",
       "      <th>...</th>\n",
       "      <th>symp</th>\n",
       "      <th>age</th>\n",
       "      <th>gender</th>\n",
       "      <th>dietrate</th>\n",
       "      <th>cry</th>\n",
       "      <th>profession</th>\n",
       "      <th>field</th>\n",
       "      <th>injury</th>\n",
       "      <th>negative</th>\n",
       "      <th>valid</th>\n",
       "    </tr>\n",
       "  </thead>\n",
       "  <tbody>\n",
       "    <tr>\n",
       "      <th>0</th>\n",
       "      <td>6-8</td>\n",
       "      <td>Yes</td>\n",
       "      <td>No</td>\n",
       "      <td>NaN</td>\n",
       "      <td>No</td>\n",
       "      <td>No</td>\n",
       "      <td>Yes</td>\n",
       "      <td>No</td>\n",
       "      <td>No</td>\n",
       "      <td>Yes</td>\n",
       "      <td>...</td>\n",
       "      <td>No</td>\n",
       "      <td>20</td>\n",
       "      <td>Female</td>\n",
       "      <td>7.0</td>\n",
       "      <td>Not at all</td>\n",
       "      <td>College Student</td>\n",
       "      <td>Yes</td>\n",
       "      <td>No</td>\n",
       "      <td>1-3</td>\n",
       "      <td>recommend self-help tasks</td>\n",
       "    </tr>\n",
       "    <tr>\n",
       "      <th>1</th>\n",
       "      <td>6-8</td>\n",
       "      <td>No</td>\n",
       "      <td>No</td>\n",
       "      <td>NaN</td>\n",
       "      <td>No</td>\n",
       "      <td>No</td>\n",
       "      <td>No</td>\n",
       "      <td>Yes</td>\n",
       "      <td>No</td>\n",
       "      <td>Yes</td>\n",
       "      <td>...</td>\n",
       "      <td>Yes</td>\n",
       "      <td>38</td>\n",
       "      <td>Female</td>\n",
       "      <td>6.0</td>\n",
       "      <td>Not at all</td>\n",
       "      <td>Working professional</td>\n",
       "      <td>Yes</td>\n",
       "      <td>Yes</td>\n",
       "      <td>Not at all</td>\n",
       "      <td>yes</td>\n",
       "    </tr>\n",
       "    <tr>\n",
       "      <th>2</th>\n",
       "      <td>6-8</td>\n",
       "      <td>Yes</td>\n",
       "      <td>No</td>\n",
       "      <td>NaN</td>\n",
       "      <td>No</td>\n",
       "      <td>Yes</td>\n",
       "      <td>Yes</td>\n",
       "      <td>No</td>\n",
       "      <td>No</td>\n",
       "      <td>No</td>\n",
       "      <td>...</td>\n",
       "      <td>Yes</td>\n",
       "      <td>19</td>\n",
       "      <td>Male</td>\n",
       "      <td>4.0</td>\n",
       "      <td>Not at all</td>\n",
       "      <td>College Student</td>\n",
       "      <td>NaN</td>\n",
       "      <td>Yes</td>\n",
       "      <td>Not at all</td>\n",
       "      <td>yes</td>\n",
       "    </tr>\n",
       "    <tr>\n",
       "      <th>3</th>\n",
       "      <td>6-8</td>\n",
       "      <td>Yes</td>\n",
       "      <td>Yes</td>\n",
       "      <td>Everyday</td>\n",
       "      <td>No</td>\n",
       "      <td>No</td>\n",
       "      <td>Yes</td>\n",
       "      <td>Yes</td>\n",
       "      <td>No</td>\n",
       "      <td>No</td>\n",
       "      <td>...</td>\n",
       "      <td>No</td>\n",
       "      <td>20</td>\n",
       "      <td>Male</td>\n",
       "      <td>9.0</td>\n",
       "      <td>Not at all</td>\n",
       "      <td>School Student</td>\n",
       "      <td>No</td>\n",
       "      <td>Yes</td>\n",
       "      <td>Not at all</td>\n",
       "      <td>no</td>\n",
       "    </tr>\n",
       "    <tr>\n",
       "      <th>4</th>\n",
       "      <td>6-8</td>\n",
       "      <td>No</td>\n",
       "      <td>Yes</td>\n",
       "      <td>Everyday</td>\n",
       "      <td>No</td>\n",
       "      <td>No</td>\n",
       "      <td>No</td>\n",
       "      <td>No</td>\n",
       "      <td>No</td>\n",
       "      <td>Yes</td>\n",
       "      <td>...</td>\n",
       "      <td>No</td>\n",
       "      <td>21</td>\n",
       "      <td>Male</td>\n",
       "      <td>7.0</td>\n",
       "      <td>1-2 times</td>\n",
       "      <td>School Student</td>\n",
       "      <td>Yes</td>\n",
       "      <td>Maybe</td>\n",
       "      <td>1-3</td>\n",
       "      <td>recommend self-help tasks</td>\n",
       "    </tr>\n",
       "  </tbody>\n",
       "</table>\n",
       "<p>5 rows × 22 columns</p>\n",
       "</div>"
      ],
      "text/plain": [
       "  sleep diet care      freq meds coun  act break journ social  ... symp age  \\\n",
       "0   6-8  Yes   No       NaN   No   No  Yes    No    No    Yes  ...   No  20   \n",
       "1   6-8   No   No       NaN   No   No   No   Yes    No    Yes  ...  Yes  38   \n",
       "2   6-8  Yes   No       NaN   No  Yes  Yes    No    No     No  ...  Yes  19   \n",
       "3   6-8  Yes  Yes  Everyday   No   No  Yes   Yes    No     No  ...   No  20   \n",
       "4   6-8   No  Yes  Everyday   No   No   No    No    No    Yes  ...   No  21   \n",
       "\n",
       "   gender  dietrate         cry            profession field injury  \\\n",
       "0  Female       7.0  Not at all       College Student   Yes     No   \n",
       "1  Female       6.0  Not at all  Working professional   Yes    Yes   \n",
       "2    Male       4.0  Not at all       College Student   NaN    Yes   \n",
       "3    Male       9.0  Not at all        School Student    No    Yes   \n",
       "4    Male       7.0   1-2 times        School Student   Yes  Maybe   \n",
       "\n",
       "     negative                      valid  \n",
       "0         1-3  recommend self-help tasks  \n",
       "1  Not at all                        yes  \n",
       "2  Not at all                        yes  \n",
       "3  Not at all                         no  \n",
       "4         1-3  recommend self-help tasks  \n",
       "\n",
       "[5 rows x 22 columns]"
      ]
     },
     "execution_count": 30,
     "metadata": {},
     "output_type": "execute_result"
    }
   ],
   "source": [
    "zs.head()"
   ]
  },
  {
   "cell_type": "markdown",
   "id": "7f2797da",
   "metadata": {},
   "source": [
    "# Label Encoding"
   ]
  },
  {
   "cell_type": "code",
   "execution_count": 31,
   "id": "351c18e3",
   "metadata": {},
   "outputs": [],
   "source": [
    "from sklearn.preprocessing import LabelEncoder\n",
    "import pickle\n",
    "categ = ['sleep', 'diet', 'care', 'freq', 'meds', 'coun', 'act', 'break',\n",
    "        'journ', 'social', 'goals', 'self', 'symp', 'gender', 'cry', 'profession', 'field', 'injury', 'negative',\n",
    "       'valid']\n",
    "\n",
    "le_sleep=LabelEncoder()\n",
    "zs['sleep']=le_sleep.fit_transform(zs['sleep'])\n",
    "pickle.dump(le_sleep, open('label_encoder1.sav', 'wb'))\n",
    "\n",
    "le_diet=LabelEncoder()\n",
    "zs['diet']=le_diet.fit_transform(zs['diet'])\n",
    "pickle.dump(le_diet, open('label_encoder2.sav', 'wb'))\n",
    "\n",
    "le_care=LabelEncoder()\n",
    "zs['care']=le_care.fit_transform(zs['care'])\n",
    "pickle.dump(le_care, open('label_encoder3.sav', 'wb'))\n",
    "\n",
    "le_freq=LabelEncoder()\n",
    "zs['freq']=le_freq.fit_transform(zs['freq'])\n",
    "pickle.dump(le_freq, open('label_encoder4.sav', 'wb'))\n",
    "\n",
    "le_meds=LabelEncoder()\n",
    "zs['meds']=le_meds.fit_transform(zs['meds'])\n",
    "pickle.dump(le_meds, open('label_encoder5.sav', 'wb'))\n",
    "\n",
    "le_coun=LabelEncoder()\n",
    "zs['coun']=le_coun.fit_transform(zs['coun'])\n",
    "pickle.dump(le_coun, open('label_encoder6.sav', 'wb'))\n",
    "\n",
    "le_act=LabelEncoder()\n",
    "zs['act']=le_act.fit_transform(zs['act'])\n",
    "pickle.dump(le_act, open('label_encoder7.sav', 'wb'))\n",
    "\n",
    "le_break=LabelEncoder()\n",
    "zs['break']=le_break.fit_transform(zs['break'])\n",
    "pickle.dump(le_break, open('label_encoder8.sav', 'wb'))\n",
    "\n",
    "le_journ=LabelEncoder()\n",
    "zs['journ']=le_journ.fit_transform(zs['journ'])\n",
    "pickle.dump(le_journ, open('label_encoder9.sav', 'wb'))\n",
    "\n",
    "le_social=LabelEncoder()\n",
    "zs['social']=le_social.fit_transform(zs['social'])\n",
    "pickle.dump(le_social, open('label_encoder10.sav', 'wb'))\n",
    "\n",
    "le_goals=LabelEncoder()\n",
    "zs['goals']=le_goals.fit_transform(zs['goals'])\n",
    "pickle.dump(le_goals, open('label_encoder11.sav', 'wb'))\n",
    "\n",
    "le_self=LabelEncoder()\n",
    "zs['self']=le_self.fit_transform(zs['self'])\n",
    "pickle.dump(le_self, open('label_encoder12.sav', 'wb'))\n",
    "\n",
    "le_symp=LabelEncoder()\n",
    "zs['symp']=le_symp.fit_transform(zs['symp'])\n",
    "pickle.dump(le_symp, open('label_encoder13.sav', 'wb'))\n",
    "\n",
    "le_gender=LabelEncoder()\n",
    "zs['gender']=le_gender.fit_transform(zs['gender'])\n",
    "pickle.dump(le_gender, open('label_encoder14.sav', 'wb'))\n",
    "\n",
    "le_cry=LabelEncoder()\n",
    "zs['cry']=le_cry.fit_transform(zs['cry'])\n",
    "pickle.dump(le_cry, open('label_encoder15.sav', 'wb'))\n",
    "\n",
    "le_profession=LabelEncoder()\n",
    "zs['profession']=le_profession.fit_transform(zs['profession'])\n",
    "pickle.dump(le_profession, open('label_encoder16.sav', 'wb'))\n",
    "\n",
    "le_field=LabelEncoder()\n",
    "zs['field']=le_field.fit_transform(zs['field'])\n",
    "pickle.dump(le_field, open('label_encoder17.sav', 'wb'))\n",
    "\n",
    "le_injury=LabelEncoder()\n",
    "zs['injury']=le_injury.fit_transform(zs['injury'])\n",
    "pickle.dump(le_injury, open('label_encoder18.sav', 'wb'))\n",
    "\n",
    "le_negative=LabelEncoder()\n",
    "zs['negative']=le_negative.fit_transform(zs['negative'])\n",
    "pickle.dump(le_negative, open('label_encoder19.sav', 'wb'))\n",
    "\n",
    "le_valid=LabelEncoder()\n",
    "zs['valid']=le_negative.fit_transform(zs['valid'])\n"
   ]
  },
  {
   "cell_type": "code",
   "execution_count": 32,
   "id": "4bd92f34",
   "metadata": {},
   "outputs": [
    {
     "data": {
      "text/html": [
       "<div>\n",
       "<style scoped>\n",
       "    .dataframe tbody tr th:only-of-type {\n",
       "        vertical-align: middle;\n",
       "    }\n",
       "\n",
       "    .dataframe tbody tr th {\n",
       "        vertical-align: top;\n",
       "    }\n",
       "\n",
       "    .dataframe thead th {\n",
       "        text-align: right;\n",
       "    }\n",
       "</style>\n",
       "<table border=\"1\" class=\"dataframe\">\n",
       "  <thead>\n",
       "    <tr style=\"text-align: right;\">\n",
       "      <th></th>\n",
       "      <th>sleep</th>\n",
       "      <th>diet</th>\n",
       "      <th>care</th>\n",
       "      <th>freq</th>\n",
       "      <th>meds</th>\n",
       "      <th>coun</th>\n",
       "      <th>act</th>\n",
       "      <th>break</th>\n",
       "      <th>journ</th>\n",
       "      <th>social</th>\n",
       "      <th>...</th>\n",
       "      <th>symp</th>\n",
       "      <th>age</th>\n",
       "      <th>gender</th>\n",
       "      <th>dietrate</th>\n",
       "      <th>cry</th>\n",
       "      <th>profession</th>\n",
       "      <th>field</th>\n",
       "      <th>injury</th>\n",
       "      <th>negative</th>\n",
       "      <th>valid</th>\n",
       "    </tr>\n",
       "  </thead>\n",
       "  <tbody>\n",
       "    <tr>\n",
       "      <th>0</th>\n",
       "      <td>3</td>\n",
       "      <td>1</td>\n",
       "      <td>0</td>\n",
       "      <td>3</td>\n",
       "      <td>0</td>\n",
       "      <td>0</td>\n",
       "      <td>1</td>\n",
       "      <td>0</td>\n",
       "      <td>0</td>\n",
       "      <td>4</td>\n",
       "      <td>...</td>\n",
       "      <td>0</td>\n",
       "      <td>20</td>\n",
       "      <td>0</td>\n",
       "      <td>7.0</td>\n",
       "      <td>2</td>\n",
       "      <td>1</td>\n",
       "      <td>1</td>\n",
       "      <td>1</td>\n",
       "      <td>0</td>\n",
       "      <td>1</td>\n",
       "    </tr>\n",
       "    <tr>\n",
       "      <th>1</th>\n",
       "      <td>3</td>\n",
       "      <td>0</td>\n",
       "      <td>0</td>\n",
       "      <td>3</td>\n",
       "      <td>0</td>\n",
       "      <td>0</td>\n",
       "      <td>0</td>\n",
       "      <td>1</td>\n",
       "      <td>0</td>\n",
       "      <td>4</td>\n",
       "      <td>...</td>\n",
       "      <td>1</td>\n",
       "      <td>38</td>\n",
       "      <td>0</td>\n",
       "      <td>6.0</td>\n",
       "      <td>2</td>\n",
       "      <td>8</td>\n",
       "      <td>1</td>\n",
       "      <td>2</td>\n",
       "      <td>3</td>\n",
       "      <td>2</td>\n",
       "    </tr>\n",
       "    <tr>\n",
       "      <th>2</th>\n",
       "      <td>3</td>\n",
       "      <td>1</td>\n",
       "      <td>0</td>\n",
       "      <td>3</td>\n",
       "      <td>0</td>\n",
       "      <td>1</td>\n",
       "      <td>1</td>\n",
       "      <td>0</td>\n",
       "      <td>0</td>\n",
       "      <td>2</td>\n",
       "      <td>...</td>\n",
       "      <td>1</td>\n",
       "      <td>19</td>\n",
       "      <td>1</td>\n",
       "      <td>4.0</td>\n",
       "      <td>2</td>\n",
       "      <td>1</td>\n",
       "      <td>2</td>\n",
       "      <td>2</td>\n",
       "      <td>3</td>\n",
       "      <td>2</td>\n",
       "    </tr>\n",
       "    <tr>\n",
       "      <th>3</th>\n",
       "      <td>3</td>\n",
       "      <td>1</td>\n",
       "      <td>1</td>\n",
       "      <td>2</td>\n",
       "      <td>0</td>\n",
       "      <td>0</td>\n",
       "      <td>1</td>\n",
       "      <td>1</td>\n",
       "      <td>0</td>\n",
       "      <td>2</td>\n",
       "      <td>...</td>\n",
       "      <td>0</td>\n",
       "      <td>20</td>\n",
       "      <td>1</td>\n",
       "      <td>9.0</td>\n",
       "      <td>2</td>\n",
       "      <td>5</td>\n",
       "      <td>0</td>\n",
       "      <td>2</td>\n",
       "      <td>3</td>\n",
       "      <td>0</td>\n",
       "    </tr>\n",
       "    <tr>\n",
       "      <th>4</th>\n",
       "      <td>3</td>\n",
       "      <td>0</td>\n",
       "      <td>1</td>\n",
       "      <td>2</td>\n",
       "      <td>0</td>\n",
       "      <td>0</td>\n",
       "      <td>0</td>\n",
       "      <td>0</td>\n",
       "      <td>0</td>\n",
       "      <td>4</td>\n",
       "      <td>...</td>\n",
       "      <td>0</td>\n",
       "      <td>21</td>\n",
       "      <td>1</td>\n",
       "      <td>7.0</td>\n",
       "      <td>0</td>\n",
       "      <td>5</td>\n",
       "      <td>1</td>\n",
       "      <td>0</td>\n",
       "      <td>0</td>\n",
       "      <td>1</td>\n",
       "    </tr>\n",
       "    <tr>\n",
       "      <th>...</th>\n",
       "      <td>...</td>\n",
       "      <td>...</td>\n",
       "      <td>...</td>\n",
       "      <td>...</td>\n",
       "      <td>...</td>\n",
       "      <td>...</td>\n",
       "      <td>...</td>\n",
       "      <td>...</td>\n",
       "      <td>...</td>\n",
       "      <td>...</td>\n",
       "      <td>...</td>\n",
       "      <td>...</td>\n",
       "      <td>...</td>\n",
       "      <td>...</td>\n",
       "      <td>...</td>\n",
       "      <td>...</td>\n",
       "      <td>...</td>\n",
       "      <td>...</td>\n",
       "      <td>...</td>\n",
       "      <td>...</td>\n",
       "      <td>...</td>\n",
       "    </tr>\n",
       "    <tr>\n",
       "      <th>246</th>\n",
       "      <td>3</td>\n",
       "      <td>1</td>\n",
       "      <td>0</td>\n",
       "      <td>3</td>\n",
       "      <td>0</td>\n",
       "      <td>0</td>\n",
       "      <td>0</td>\n",
       "      <td>0</td>\n",
       "      <td>0</td>\n",
       "      <td>3</td>\n",
       "      <td>...</td>\n",
       "      <td>1</td>\n",
       "      <td>22</td>\n",
       "      <td>1</td>\n",
       "      <td>8.0</td>\n",
       "      <td>0</td>\n",
       "      <td>8</td>\n",
       "      <td>1</td>\n",
       "      <td>0</td>\n",
       "      <td>3</td>\n",
       "      <td>1</td>\n",
       "    </tr>\n",
       "    <tr>\n",
       "      <th>247</th>\n",
       "      <td>3</td>\n",
       "      <td>1</td>\n",
       "      <td>0</td>\n",
       "      <td>0</td>\n",
       "      <td>0</td>\n",
       "      <td>1</td>\n",
       "      <td>0</td>\n",
       "      <td>0</td>\n",
       "      <td>1</td>\n",
       "      <td>0</td>\n",
       "      <td>...</td>\n",
       "      <td>1</td>\n",
       "      <td>15</td>\n",
       "      <td>0</td>\n",
       "      <td>6.0</td>\n",
       "      <td>1</td>\n",
       "      <td>5</td>\n",
       "      <td>0</td>\n",
       "      <td>1</td>\n",
       "      <td>1</td>\n",
       "      <td>2</td>\n",
       "    </tr>\n",
       "    <tr>\n",
       "      <th>248</th>\n",
       "      <td>3</td>\n",
       "      <td>1</td>\n",
       "      <td>1</td>\n",
       "      <td>0</td>\n",
       "      <td>0</td>\n",
       "      <td>0</td>\n",
       "      <td>1</td>\n",
       "      <td>0</td>\n",
       "      <td>0</td>\n",
       "      <td>1</td>\n",
       "      <td>...</td>\n",
       "      <td>0</td>\n",
       "      <td>15</td>\n",
       "      <td>1</td>\n",
       "      <td>8.0</td>\n",
       "      <td>0</td>\n",
       "      <td>5</td>\n",
       "      <td>0</td>\n",
       "      <td>2</td>\n",
       "      <td>3</td>\n",
       "      <td>0</td>\n",
       "    </tr>\n",
       "    <tr>\n",
       "      <th>249</th>\n",
       "      <td>3</td>\n",
       "      <td>1</td>\n",
       "      <td>0</td>\n",
       "      <td>3</td>\n",
       "      <td>0</td>\n",
       "      <td>0</td>\n",
       "      <td>0</td>\n",
       "      <td>1</td>\n",
       "      <td>0</td>\n",
       "      <td>3</td>\n",
       "      <td>...</td>\n",
       "      <td>1</td>\n",
       "      <td>49</td>\n",
       "      <td>0</td>\n",
       "      <td>7.0</td>\n",
       "      <td>2</td>\n",
       "      <td>2</td>\n",
       "      <td>1</td>\n",
       "      <td>1</td>\n",
       "      <td>3</td>\n",
       "      <td>1</td>\n",
       "    </tr>\n",
       "    <tr>\n",
       "      <th>250</th>\n",
       "      <td>3</td>\n",
       "      <td>1</td>\n",
       "      <td>1</td>\n",
       "      <td>0</td>\n",
       "      <td>0</td>\n",
       "      <td>0</td>\n",
       "      <td>1</td>\n",
       "      <td>1</td>\n",
       "      <td>1</td>\n",
       "      <td>3</td>\n",
       "      <td>...</td>\n",
       "      <td>0</td>\n",
       "      <td>38</td>\n",
       "      <td>0</td>\n",
       "      <td>8.0</td>\n",
       "      <td>0</td>\n",
       "      <td>6</td>\n",
       "      <td>1</td>\n",
       "      <td>2</td>\n",
       "      <td>3</td>\n",
       "      <td>0</td>\n",
       "    </tr>\n",
       "  </tbody>\n",
       "</table>\n",
       "<p>251 rows × 22 columns</p>\n",
       "</div>"
      ],
      "text/plain": [
       "     sleep  diet  care  freq  meds  coun  act  break  journ  social  ...  \\\n",
       "0        3     1     0     3     0     0    1      0      0       4  ...   \n",
       "1        3     0     0     3     0     0    0      1      0       4  ...   \n",
       "2        3     1     0     3     0     1    1      0      0       2  ...   \n",
       "3        3     1     1     2     0     0    1      1      0       2  ...   \n",
       "4        3     0     1     2     0     0    0      0      0       4  ...   \n",
       "..     ...   ...   ...   ...   ...   ...  ...    ...    ...     ...  ...   \n",
       "246      3     1     0     3     0     0    0      0      0       3  ...   \n",
       "247      3     1     0     0     0     1    0      0      1       0  ...   \n",
       "248      3     1     1     0     0     0    1      0      0       1  ...   \n",
       "249      3     1     0     3     0     0    0      1      0       3  ...   \n",
       "250      3     1     1     0     0     0    1      1      1       3  ...   \n",
       "\n",
       "     symp  age  gender  dietrate  cry  profession  field  injury  negative  \\\n",
       "0       0   20       0       7.0    2           1      1       1         0   \n",
       "1       1   38       0       6.0    2           8      1       2         3   \n",
       "2       1   19       1       4.0    2           1      2       2         3   \n",
       "3       0   20       1       9.0    2           5      0       2         3   \n",
       "4       0   21       1       7.0    0           5      1       0         0   \n",
       "..    ...  ...     ...       ...  ...         ...    ...     ...       ...   \n",
       "246     1   22       1       8.0    0           8      1       0         3   \n",
       "247     1   15       0       6.0    1           5      0       1         1   \n",
       "248     0   15       1       8.0    0           5      0       2         3   \n",
       "249     1   49       0       7.0    2           2      1       1         3   \n",
       "250     0   38       0       8.0    0           6      1       2         3   \n",
       "\n",
       "     valid  \n",
       "0        1  \n",
       "1        2  \n",
       "2        2  \n",
       "3        0  \n",
       "4        1  \n",
       "..     ...  \n",
       "246      1  \n",
       "247      2  \n",
       "248      0  \n",
       "249      1  \n",
       "250      0  \n",
       "\n",
       "[251 rows x 22 columns]"
      ]
     },
     "execution_count": 32,
     "metadata": {},
     "output_type": "execute_result"
    }
   ],
   "source": [
    "zs"
   ]
  },
  {
   "cell_type": "code",
   "execution_count": null,
   "id": "0f3c6e81",
   "metadata": {},
   "outputs": [],
   "source": [
    "zs.corr()"
   ]
  },
  {
   "cell_type": "code",
   "execution_count": null,
   "id": "2e9e8215",
   "metadata": {},
   "outputs": [],
   "source": [
    "plt.figure(figsize=(25,20))\n",
    "sns.heatmap(zs.corr(),annot=True,linewidth=0.5,fmt='.2f',center=1)\n",
    "plt.show()"
   ]
  },
  {
   "cell_type": "code",
   "execution_count": null,
   "id": "7d02f858",
   "metadata": {},
   "outputs": [],
   "source": [
    "zs = zs.apply(pd.to_numeric)"
   ]
  },
  {
   "cell_type": "code",
   "execution_count": null,
   "id": "37170a7c",
   "metadata": {},
   "outputs": [],
   "source": [
    "zs.info()"
   ]
  },
  {
   "cell_type": "markdown",
   "id": "e1aba0de",
   "metadata": {},
   "source": [
    "The strong positive correlation between taking breaks & practicing relaxation techniques and journaling or practicing mindfulness is the highest.Thus, the null hypothesis has not been rejected."
   ]
  },
  {
   "cell_type": "markdown",
   "id": "d22d840d",
   "metadata": {},
   "source": [
    "# Model Building"
   ]
  },
  {
   "cell_type": "markdown",
   "id": "a31dd70c",
   "metadata": {},
   "source": [
    "# Splitting the data"
   ]
  },
  {
   "cell_type": "code",
   "execution_count": null,
   "id": "56112731",
   "metadata": {},
   "outputs": [],
   "source": [
    "from sklearn.model_selection import train_test_split\n",
    "\n",
    "X = zs.drop('valid',axis=1)     \n",
    "Y = zs['valid']   \n",
    "\n",
    "x_train, x_test, y_train, y_test = train_test_split(X, Y, test_size=0.3, random_state=1)\n",
    "# 1 - random seed number\n",
    "\n",
    "x_train.fillna(0,inplace=True)\n",
    "x_test.fillna(0,inplace=True)"
   ]
  },
  {
   "cell_type": "code",
   "execution_count": null,
   "id": "a17a99ff",
   "metadata": {},
   "outputs": [],
   "source": [
    "y_test.value_counts()"
   ]
  },
  {
   "cell_type": "markdown",
   "id": "19d56aa5",
   "metadata": {},
   "source": [
    "# Building Base Models"
   ]
  },
  {
   "cell_type": "code",
   "execution_count": null,
   "id": "4255e4a3",
   "metadata": {},
   "outputs": [],
   "source": [
    "from sklearn.ensemble import RandomForestClassifier\n",
    "from sklearn.tree import DecisionTreeClassifier\n",
    "from sklearn.ensemble import GradientBoostingClassifier\n",
    "from xgboost import XGBClassifier\n",
    "from sklearn.svm import SVC\n",
    "from sklearn.ensemble import AdaBoostClassifier\n",
    "from catboost import CatBoostClassifier\n",
    "import lightgbm as lgb\n",
    "from sklearn.ensemble import BaggingClassifier\n",
    "from sklearn.model_selection import cross_val_score\n",
    "from sklearn.model_selection import RepeatedStratifiedKFold\n",
    "from imblearn.pipeline import Pipeline\n",
    "from sklearn import model_selection\n",
    "from sklearn.metrics import classification_report\n",
    "models={\n",
    "    'CART':DecisionTreeClassifier(class_weight='balanced'),\n",
    "    'RF' : RandomForestClassifier(class_weight='balanced'),\n",
    "    'Bagging':BaggingClassifier(),\n",
    "    'ADABoost': AdaBoostClassifier(),\n",
    "    'GradientBoost':GradientBoostingClassifier(),\n",
    "    'XGB': XGBClassifier(),\n",
    "    'SVM': SVC(class_weight='balanced'),\n",
    "    'CatBoost':CatBoostClassifier(silent=True),\n",
    "    'LightGBM':lgb.LGBMClassifier(class_weight='balanced')\n",
    "    \n",
    "}\n",
    "for i in range(len(list(models))):\n",
    "    model = list(models.values())[i]\n",
    "    model.fit(x_train,y_train)\n",
    "    \n",
    "    #predictions for validation\n",
    "    y_pred=model.predict(x_test)\n",
    "       \n",
    "   #classification report\n",
    "    print(list(models.keys())[i])\n",
    "    print(classification_report(y_test, y_pred, digits=4))\n",
    "    \n",
    "       \n",
    "    "
   ]
  },
  {
   "cell_type": "markdown",
   "id": "4fed8e33",
   "metadata": {},
   "source": [
    "### Random forest and XGBoost are the best performing base models. we will perform hyper-parameter tuning on both to choose the best model"
   ]
  },
  {
   "cell_type": "markdown",
   "id": "c862771e",
   "metadata": {},
   "source": [
    "# Random Forest Hyper-parameter Tuning"
   ]
  },
  {
   "cell_type": "code",
   "execution_count": null,
   "id": "d495e8c2",
   "metadata": {},
   "outputs": [],
   "source": [
    "from pprint import pprint\n",
    "\n",
    "from sklearn.model_selection import RandomizedSearchCV\n",
    "# Number of trees in random forest\n",
    "n_estimators = [int(x) for x in np.linspace(start = 50, stop = 600, num = 15)]\n",
    "# Number of features to consider at every split\n",
    "max_features = ['auto', 'sqrt']\n",
    "# Maximum number of levels in tree\n",
    "max_depth = [2,3,4,5]\n",
    "# Minimum number of samples required to split a node\n",
    "min_samples_split = [2, 5, 10]\n",
    "# Minimum number of samples required at each leaf node\n",
    "min_samples_leaf = [1, 2, 4]\n",
    "# Method of selecting samples for training each tree\n",
    "bootstrap = [True, False]\n",
    "\n",
    "class_weight=['balanced',None]\n",
    "# Create the random grid\n",
    "random_grid = {'n_estimators': n_estimators,\n",
    "               'max_features': max_features,\n",
    "               'max_depth': max_depth,\n",
    "               'min_samples_split': min_samples_split,\n",
    "               'min_samples_leaf': min_samples_leaf,\n",
    "               'bootstrap': bootstrap,\n",
    "               'class_weight':class_weight}\n",
    "pprint(random_grid)"
   ]
  },
  {
   "cell_type": "code",
   "execution_count": null,
   "id": "eeebf1ec",
   "metadata": {},
   "outputs": [],
   "source": [
    "from sklearn.ensemble import RandomForestClassifier\n",
    "from sklearn.model_selection import RandomizedSearchCV\n",
    "# First create the base model to tune\n",
    "rf = RandomForestClassifier(class_weight='balanced')\n",
    "# Random search of parameters, using 3 fold cross validation, \n",
    "# search across 100 different combinations, and use all available cores\n",
    "rf_random = RandomizedSearchCV(estimator = rf, param_distributions = random_grid, n_iter = 200, cv = 10, verbose=2, random_state=42, n_jobs = -1)\n",
    "# Fit the random search model\n",
    "rf_random.fit(x_train,y_train)\n",
    "\n",
    "print('The best paramters are: {}'.format(rf_random.best_params_))"
   ]
  },
  {
   "cell_type": "code",
   "execution_count": null,
   "id": "771b2fcf",
   "metadata": {},
   "outputs": [],
   "source": [
    "#saving the best model\n",
    "final_rf=rf_random.best_estimator_"
   ]
  },
  {
   "cell_type": "markdown",
   "id": "9a261d75",
   "metadata": {},
   "source": [
    "### Printing Classification Report"
   ]
  },
  {
   "cell_type": "code",
   "execution_count": null,
   "id": "03ccfd7c",
   "metadata": {
    "scrolled": true
   },
   "outputs": [],
   "source": [
    "y_pred=final_rf.predict(x_test)\n",
    "print(classification_report(y_test, y_pred, digits=4))"
   ]
  },
  {
   "cell_type": "markdown",
   "id": "76fff93c",
   "metadata": {},
   "source": [
    "### Printing confusion matrix"
   ]
  },
  {
   "cell_type": "code",
   "execution_count": null,
   "id": "fec4646b",
   "metadata": {
    "scrolled": false
   },
   "outputs": [],
   "source": [
    "from sklearn.metrics import confusion_matrix\n",
    "y_pred=final_rf.predict(x_test)\n",
    "print(final_rf.score(x_test,y_test))\n",
    "cm=confusion_matrix(y_test,y_pred,labels=[0,1,2])\n",
    "df_cm = pd.DataFrame(cm, index = [i for i in [\"Reccomend Self-help Task\",\"Yes\",\"No\"]],\n",
    "                  columns = [i for i in [\"Reccomend Self-help Task\",\"Yes\",\"No\"]])\n",
    "plt.figure(figsize = (7,5))\n",
    "sns.heatmap(df_cm, annot=True ,fmt='g',cmap=\"crest\")"
   ]
  },
  {
   "cell_type": "code",
   "execution_count": null,
   "id": "262c50b5",
   "metadata": {},
   "outputs": [],
   "source": [
    "#define params\n",
    "import xgboost as xgb\n",
    "loss=['hinge','log','modifier_huber','squared_hinge','perceptron']\n",
    "penalty = ['li','l2','elasticnet']\n",
    "alpha = [0.0001, 0.001,0.01,0.1,1,10,100,1000]\n",
    "learnin_rate = ['constant','optimal','invscaling','adaptive']\n",
    "class_weight = [{0.3,0.5,0.2},{0.3,0.4,0.3}]\n",
    "eta0 = [1,10,100]\n",
    "\n",
    "#Hyper-parameter tuning estimator\n",
    "xg_class = xgb.XGBClassifier(objective = \"multi:softmax\", colsample_bytree = 1,\n",
    "gamma = 1,subsample = 0.8, learning_rate = 0.01, max_depth = 3,\n",
    "alpha = 10,n_estimators = 1000, multilabel_ =True, num_classes = 3)\n",
    "\n",
    "#Cross Validation\n",
    "param_distributions = dict(loss = loss, penalty=penalty, alpha=alpha, learnin_rate=learnin_rate, class_weight=class_weight, eta0=eta0)\n",
    "xgb_random = RandomizedSearchCV(estimator = xg_class, param_distributions=param_distributions, \n",
    " n_iter = 200, cv = 10, verbose=2, random_state=42, n_jobs = -1)\n",
    "\n",
    "xgb_random.fit(x_train,y_train)\n",
    "\n",
    "print('The best paramters are: {}'.format(rf_random.best_params_))\n",
    "\n",
    "\n",
    "\n",
    "\n"
   ]
  },
  {
   "cell_type": "code",
   "execution_count": null,
   "id": "f65b65a1",
   "metadata": {},
   "outputs": [],
   "source": [
    "#saving the best model\n",
    "final_xgb=xgb_random.best_estimator_"
   ]
  },
  {
   "cell_type": "code",
   "execution_count": null,
   "id": "8d77d20d",
   "metadata": {
    "scrolled": true
   },
   "outputs": [],
   "source": [
    "final_xgb.score(x_test,y_test)"
   ]
  },
  {
   "cell_type": "markdown",
   "id": "607d17bd",
   "metadata": {},
   "source": [
    "### Printing Classification Report"
   ]
  },
  {
   "cell_type": "code",
   "execution_count": null,
   "id": "e58426b4",
   "metadata": {
    "scrolled": true
   },
   "outputs": [],
   "source": [
    "y_pred=final_xgb.predict(x_test)\n",
    "print(classification_report(y_test, y_pred, digits=4))"
   ]
  },
  {
   "cell_type": "markdown",
   "id": "b82ead4c",
   "metadata": {},
   "source": [
    "### Printing confusion matrix"
   ]
  },
  {
   "cell_type": "code",
   "execution_count": null,
   "id": "f98843c7",
   "metadata": {
    "scrolled": false
   },
   "outputs": [],
   "source": [
    "from sklearn.metrics import confusion_matrix\n",
    "y_pred=final_xgb.predict(x_test)\n",
    "print(final_xgb.score(x_test,y_test))\n",
    "cm=confusion_matrix(y_test,y_pred,labels=[0,1,2])\n",
    "df_cm = pd.DataFrame(cm, index = [i for i in [\"Reccomend Self-help Task\",\"Yes\",\"No\"]],\n",
    "                  columns = [i for i in [\"Reccomend Self-help Task\",\"Yes\",\"No\"]])\n",
    "plt.figure(figsize = (7,5))\n",
    "sns.heatmap(df_cm, annot=True ,fmt='g',cmap=sns.cubehelix_palette(as_cmap=True))"
   ]
  },
  {
   "cell_type": "code",
   "execution_count": null,
   "id": "3b543531",
   "metadata": {},
   "outputs": [],
   "source": []
  },
  {
   "cell_type": "markdown",
   "id": "341f6f61",
   "metadata": {},
   "source": [
    "### since the random forest model works the best on test data after cross validation, saving model"
   ]
  },
  {
   "cell_type": "code",
   "execution_count": null,
   "id": "1c52a4d5",
   "metadata": {},
   "outputs": [],
   "source": [
    "import pickle\n",
    "# save the model to disk\n",
    "filename = 'finalized_model.sav'\n",
    "pickle.dump(final_rf, open(filename, 'wb'))\n",
    "\n",
    "\n",
    "# # load the model from disk\n",
    "# final_rf = pickle.load(open(filename, 'rb'))\n"
   ]
  }
 ],
 "metadata": {
  "kernelspec": {
   "display_name": "Python 3 (ipykernel)",
   "language": "python",
   "name": "python3"
  },
  "language_info": {
   "codemirror_mode": {
    "name": "ipython",
    "version": 3
   },
   "file_extension": ".py",
   "mimetype": "text/x-python",
   "name": "python",
   "nbconvert_exporter": "python",
   "pygments_lexer": "ipython3",
   "version": "3.10.9"
  }
 },
 "nbformat": 4,
 "nbformat_minor": 5
}
